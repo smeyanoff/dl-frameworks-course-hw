{
 "cells": [
  {
   "cell_type": "code",
   "execution_count": 1,
   "metadata": {},
   "outputs": [],
   "source": [
    "%load_ext autoreload\n",
    "%autoreload"
   ]
  },
  {
   "cell_type": "code",
   "execution_count": 2,
   "metadata": {},
   "outputs": [],
   "source": [
    "import pandas as pd"
   ]
  },
  {
   "cell_type": "code",
   "execution_count": 3,
   "metadata": {},
   "outputs": [],
   "source": [
    "data = pd.read_csv(\n",
    "    \"Ethos_Dataset_Binary.csv\",\n",
    "    sep=\";\"\n",
    ")"
   ]
  },
  {
   "attachments": {},
   "cell_type": "markdown",
   "metadata": {},
   "source": [
    "### DataSet Prepare"
   ]
  },
  {
   "cell_type": "code",
   "execution_count": 4,
   "metadata": {},
   "outputs": [],
   "source": [
    "initial_dpath = \"./data/initial_data/\"\n",
    "intermediate_dpath = \"./data/intermediate_data/\"\n",
    "prepared_dpath = \"./data/prepared_data/\""
   ]
  },
  {
   "cell_type": "code",
   "execution_count": 5,
   "metadata": {},
   "outputs": [],
   "source": [
    "import os\n",
    "# making dirs if needed\n",
    "\n",
    "if not os.path.exists(initial_dpath):\n",
    "    os.makedirs(initial_dpath)\n",
    "if not os.path.exists(intermediate_dpath):\n",
    "    os.makedirs(intermediate_dpath)\n",
    "if not os.path.exists(prepared_dpath):\n",
    "    os.makedirs(prepared_dpath)"
   ]
  },
  {
   "cell_type": "code",
   "execution_count": 6,
   "metadata": {},
   "outputs": [],
   "source": [
    "from pathlib import PurePath\n",
    "\n",
    "# prepare data files\n",
    "with open(PurePath(initial_dpath, \"comments.csv\"), \"w\") as f:\n",
    "    for string in data.index:\n",
    "        f.write(str(data.iloc[string, 0])+\"\\n\")"
   ]
  },
  {
   "cell_type": "code",
   "execution_count": 7,
   "metadata": {},
   "outputs": [],
   "source": [
    "from pathlib import PurePath\n",
    "\n",
    "# prepare data files\n",
    "with open(PurePath(initial_dpath, \"labels.csv\"), \"w\") as f:\n",
    "    for string in data.index:\n",
    "        f.write(str(data.iloc[string, 1])+\"\\n\")"
   ]
  },
  {
   "cell_type": "code",
   "execution_count": 8,
   "metadata": {},
   "outputs": [
    {
     "name": "stdout",
     "output_type": "stream",
     "text": [
      "\u001b[37mPoe =>\u001b[0m \u001b[94mpoetry run python utils/preprocess_text.py\u001b[0m\n"
     ]
    }
   ],
   "source": [
    "# prepare_data script\n",
    "# use poethepoet lib to run scripts\n",
    "\n",
    "!poetry run poe prepare_data"
   ]
  },
  {
   "attachments": {},
   "cell_type": "markdown",
   "metadata": {},
   "source": [
    "## Prepare Word2Vec model"
   ]
  },
  {
   "cell_type": "code",
   "execution_count": 9,
   "metadata": {},
   "outputs": [],
   "source": [
    "# use parsers\n",
    "from utils.parsers import wordtovec_parse_args\n",
    "\n",
    "# models save dir\n",
    "model_path = \"./models\"\n",
    "if not os.path.exists(model_path):\n",
    "    os.mkdirs(model_path)\n",
    "playbook_path = \"./playbooks/word2vec_params.json\"\n",
    "train = \"False\" # set True if train is needed"
   ]
  },
  {
   "cell_type": "code",
   "execution_count": 10,
   "metadata": {},
   "outputs": [],
   "source": [
    "parser_text = [\n",
    "    \"--prepared_dpath\", prepared_dpath,\n",
    "    \"--model_path\",     model_path,\n",
    "    \"--train\",          train, \n",
    "    \"--playbook\",       playbook_path\n",
    "]"
   ]
  },
  {
   "cell_type": "code",
   "execution_count": 11,
   "metadata": {},
   "outputs": [],
   "source": [
    "args = wordtovec_parse_args().parse_args(parser_text)"
   ]
  },
  {
   "cell_type": "code",
   "execution_count": 12,
   "metadata": {},
   "outputs": [],
   "source": [
    "# download word2vec model\n",
    "from utils.wordtovec import WordToVec"
   ]
  },
  {
   "cell_type": "code",
   "execution_count": 13,
   "metadata": {},
   "outputs": [],
   "source": [
    "word2vec = WordToVec(args).load_model()"
   ]
  },
  {
   "attachments": {},
   "cell_type": "markdown",
   "metadata": {},
   "source": [
    "## Prepare the model"
   ]
  },
  {
   "cell_type": "code",
   "execution_count": 16,
   "metadata": {},
   "outputs": [],
   "source": [
    "seed = 1"
   ]
  },
  {
   "cell_type": "code",
   "execution_count": 38,
   "metadata": {},
   "outputs": [],
   "source": [
    "labels = pd.read_csv(\"./data/initial_data/labels.csv\", header=None)\n",
    "labels[0] =  labels[0].astype(int)\n",
    "with open(\"./data/prepared_data/comments_tokinize.csv\", \"r\") as f:\n",
    "    comments = eval(f.read())"
   ]
  },
  {
   "cell_type": "code",
   "execution_count": 39,
   "metadata": {},
   "outputs": [
    {
     "data": {
      "text/plain": [
       "array([1, 0])"
      ]
     },
     "execution_count": 39,
     "metadata": {},
     "output_type": "execute_result"
    }
   ],
   "source": [
    "labels[0].unique()"
   ]
  },
  {
   "cell_type": "code",
   "execution_count": 40,
   "metadata": {},
   "outputs": [],
   "source": [
    "comments = [comment for comment in comments if comment!=[]]"
   ]
  },
  {
   "cell_type": "code",
   "execution_count": 41,
   "metadata": {},
   "outputs": [],
   "source": [
    "# check lens \n",
    "assert len(comments) == labels.shape[0]"
   ]
  },
  {
   "cell_type": "code",
   "execution_count": 42,
   "metadata": {},
   "outputs": [],
   "source": [
    "from sklearn.model_selection import train_test_split\n",
    "\n",
    "X, validX, Y, validY = train_test_split(\n",
    "    comments, \n",
    "    labels, \n",
    "    stratify=labels, \n",
    "    shuffle=True,\n",
    "    random_state=seed,\n",
    "    test_size=0.1\n",
    ")"
   ]
  },
  {
   "cell_type": "code",
   "execution_count": 43,
   "metadata": {},
   "outputs": [],
   "source": [
    "trainX, testX, trainY, testY = train_test_split(\n",
    "    X, \n",
    "    Y,\n",
    "    stratify=Y, \n",
    "    shuffle=True,\n",
    "    random_state=seed,\n",
    "    test_size=0.2\n",
    ")"
   ]
  },
  {
   "cell_type": "code",
   "execution_count": 44,
   "metadata": {},
   "outputs": [],
   "source": [
    "import numpy as np\n",
    "def vectorize(sentence, w2v_model):\n",
    "    words_vecs = [w2v_model.wv[word] for word in sentence if word in w2v_model.wv]\n",
    "    if len(words_vecs) == 0:\n",
    "        return np.zeros(300)\n",
    "    words_vecs = np.array(words_vecs)\n",
    "    return words_vecs.mean(axis=0)"
   ]
  },
  {
   "cell_type": "code",
   "execution_count": 45,
   "metadata": {},
   "outputs": [],
   "source": [
    "trainX = np.array([word2vec.vectorize_sentence(sentence) for sentence in trainX])\n",
    "testX = np.array([word2vec.vectorize_sentence(sentence) for sentence in testX])\n",
    "validX = np.array([word2vec.vectorize_sentence(sentence) for sentence in validX])"
   ]
  },
  {
   "attachments": {},
   "cell_type": "markdown",
   "metadata": {},
   "source": [
    "## Train the model Optimize Hyperparameters"
   ]
  },
  {
   "cell_type": "code",
   "execution_count": 90,
   "metadata": {},
   "outputs": [],
   "source": [
    "from xgboost import XGBClassifier\n",
    "from sklearn.metrics import accuracy_score, precision_score, recall_score, f1_score\n",
    "import optuna\n",
    "from dvclive.optuna import DVCLiveCallback\n",
    "\n",
    "def objective(trial):\n",
    "\n",
    "    bst = XGBClassifier(\n",
    "        n_estimators=trial.suggest_int('n_estimators',1,10), \n",
    "        max_depth=trial.suggest_int('max_depth',1,10), \n",
    "        learning_rate=trial.suggest_float('learning_rate',1e-10,1), \n",
    "        objective='binary:logistic'\n",
    "    )\n",
    "    # fit model\n",
    "    bst.fit(trainX, trainY)\n",
    "    # make predictions\n",
    "    preds = bst.predict(testX) \n",
    "    return (\n",
    "        f1_score(testY.values.reshape(-1), preds, average=\"macro\"),\n",
    "        accuracy_score(testY.values.reshape(-1), preds),\n",
    "        precision_score(testY.values.reshape(-1), preds, average=\"macro\"),\n",
    "        recall_score(testY.values.reshape(-1), preds, average=\"macro\"),\n",
    "    )"
   ]
  },
  {
   "cell_type": "code",
   "execution_count": 91,
   "metadata": {},
   "outputs": [
    {
     "name": "stderr",
     "output_type": "stream",
     "text": [
      "[I 2023-06-10 16:17:35,125] A new study created in memory with name: no-name-3ad34163-2aa2-4193-82f2-7454405d7fb6\n",
      "[I 2023-06-10 16:17:35,778] Trial 0 finished with values: [0.48290241868223516, 0.8277777777777777, 0.5454545454545454, 0.5073076044759077] and parameters: {'n_estimators': 3, 'max_depth': 3, 'learning_rate': 0.7622519581258735}. \n",
      "WARNING: The following untracked files were present in the workspace before saving but will not be included in the experiment commit:\n",
      "\tEthos_Dataset_Binary.csv, playbooks/word2vec_params.json, utils/wordtovec.py\n",
      "[I 2023-06-10 16:17:38,298] Trial 1 finished with values: [0.4966829321782992, 0.7166666666666667, 0.4970439189189189, 0.49680292304179036] and parameters: {'n_estimators': 2, 'max_depth': 7, 'learning_rate': 0.8824061578281969}. \n",
      "WARNING: The following untracked files were present in the workspace before saving but will not be included in the experiment commit:\n",
      "\tEthos_Dataset_Binary.csv, playbooks/word2vec_params.json, utils/wordtovec.py\n",
      "[I 2023-06-10 16:17:42,940] Trial 2 finished with values: [0.5094505494505495, 0.8277777777777777, 0.5890804597701149, 0.5212377255081069] and parameters: {'n_estimators': 9, 'max_depth': 8, 'learning_rate': 0.5008891225948034}. \n",
      "WARNING: The following untracked files were present in the workspace before saving but will not be included in the experiment commit:\n",
      "\tEthos_Dataset_Binary.csv, playbooks/word2vec_params.json, utils/wordtovec.py\n",
      "[I 2023-06-10 16:17:47,572] Trial 3 finished with values: [0.5148247978436657, 0.8, 0.5375403040073699, 0.5186115551495776] and parameters: {'n_estimators': 9, 'max_depth': 8, 'learning_rate': 0.9135644007355969}. \n",
      "WARNING: The following untracked files were present in the workspace before saving but will not be included in the experiment commit:\n",
      "\tEthos_Dataset_Binary.csv, playbooks/word2vec_params.json, utils/wordtovec.py\n",
      "[I 2023-06-10 16:17:52,110] Trial 4 finished with values: [0.5255212077641984, 0.8166666666666667, 0.5735294117647058, 0.5285453299840146] and parameters: {'n_estimators': 5, 'max_depth': 6, 'learning_rate': 0.560493320061531}. \n",
      "WARNING: The following untracked files were present in the workspace before saving but will not be included in the experiment commit:\n",
      "\tEthos_Dataset_Binary.csv, playbooks/word2vec_params.json, utils/wordtovec.py\n",
      "[I 2023-06-10 16:17:56,871] Trial 5 finished with values: [0.452887537993921, 0.8277777777777777, 0.41853932584269665, 0.49337748344370863] and parameters: {'n_estimators': 9, 'max_depth': 4, 'learning_rate': 0.2970460834302851}. \n",
      "WARNING: The following untracked files were present in the workspace before saving but will not be included in the experiment commit:\n",
      "\tEthos_Dataset_Binary.csv, playbooks/word2vec_params.json, utils/wordtovec.py\n",
      "/home/dmitry/.cache/pypoetry/virtualenvs/homework-1-z19GceYm-py3.10/lib/python3.10/site-packages/sklearn/metrics/_classification.py:1344: UndefinedMetricWarning: Precision is ill-defined and being set to 0.0 in labels with no predicted samples. Use `zero_division` parameter to control this behavior.\n",
      "  _warn_prf(average, modifier, msg_start, len(result))\n",
      "[I 2023-06-10 16:17:57,808] Trial 6 finished with values: [0.4561933534743202, 0.8388888888888889, 0.41944444444444445, 0.5] and parameters: {'n_estimators': 2, 'max_depth': 1, 'learning_rate': 0.40287739294719666}. \n",
      "WARNING: The following untracked files were present in the workspace before saving but will not be included in the experiment commit:\n",
      "\tEthos_Dataset_Binary.csv, playbooks/word2vec_params.json, utils/wordtovec.py\n",
      "[I 2023-06-10 16:18:02,533] Trial 7 finished with values: [0.5956873315363881, 0.8333333333333334, 0.661906955320129, 0.5802694679150491] and parameters: {'n_estimators': 9, 'max_depth': 7, 'learning_rate': 0.7612338566328288}. \n",
      "WARNING: The following untracked files were present in the workspace before saving but will not be included in the experiment commit:\n",
      "\tEthos_Dataset_Binary.csv, playbooks/word2vec_params.json, utils/wordtovec.py\n",
      "[I 2023-06-10 16:18:06,673] Trial 8 finished with values: [0.5339470655926353, 0.8, 0.5575757575757576, 0.5325416761817766] and parameters: {'n_estimators': 4, 'max_depth': 7, 'learning_rate': 0.9774142401115069}. \n",
      "WARNING: The following untracked files were present in the workspace before saving but will not be included in the experiment commit:\n",
      "\tEthos_Dataset_Binary.csv, playbooks/word2vec_params.json, utils/wordtovec.py\n",
      "[I 2023-06-10 16:18:12,369] Trial 9 finished with values: [0.4778021978021978, 0.8166666666666667, 0.5028735632183908, 0.5006850879196164] and parameters: {'n_estimators': 10, 'max_depth': 6, 'learning_rate': 0.3398512249879936}. \n",
      "WARNING: The following untracked files were present in the workspace before saving but will not be included in the experiment commit:\n",
      "\tEthos_Dataset_Binary.csv, playbooks/word2vec_params.json, utils/wordtovec.py\n"
     ]
    }
   ],
   "source": [
    "study = optuna.create_study(directions=[\"maximize\", \"maximize\",\"maximize\",\"maximize\"])\n",
    "study.optimize(objective, n_trials=10, callbacks=[DVCLiveCallback()])"
   ]
  },
  {
   "cell_type": "code",
   "execution_count": null,
   "metadata": {},
   "outputs": [],
   "source": []
  }
 ],
 "metadata": {
  "kernelspec": {
   "display_name": ".venv",
   "language": "python",
   "name": "python3"
  },
  "language_info": {
   "codemirror_mode": {
    "name": "ipython",
    "version": 3
   },
   "file_extension": ".py",
   "mimetype": "text/x-python",
   "name": "python",
   "nbconvert_exporter": "python",
   "pygments_lexer": "ipython3",
   "version": "3.10.6"
  },
  "orig_nbformat": 4
 },
 "nbformat": 4,
 "nbformat_minor": 2
}

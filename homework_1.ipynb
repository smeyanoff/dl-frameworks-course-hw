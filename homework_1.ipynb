{
 "cells": [
  {
   "cell_type": "code",
   "execution_count": 1,
   "metadata": {},
   "outputs": [],
   "source": [
    "%load_ext autoreload\n",
    "%autoreload"
   ]
  },
  {
   "cell_type": "code",
   "execution_count": 2,
   "metadata": {},
   "outputs": [],
   "source": [
    "import pandas as pd"
   ]
  },
  {
   "cell_type": "code",
   "execution_count": 3,
   "metadata": {},
   "outputs": [],
   "source": [
    "data = pd.read_csv(\n",
    "    \"Ethos_Dataset_Binary.csv\",\n",
    "    sep=\";\"\n",
    ")"
   ]
  },
  {
   "attachments": {},
   "cell_type": "markdown",
   "metadata": {},
   "source": [
    "### DataSet Prepare"
   ]
  },
  {
   "cell_type": "code",
   "execution_count": 4,
   "metadata": {},
   "outputs": [],
   "source": [
    "initial_dpath = \"./data/initial_data/\"\n",
    "intermediate_dpath = \"./data/intermediate_data/\"\n",
    "prepared_dpath = \"./data/prepared_data/\""
   ]
  },
  {
   "cell_type": "code",
   "execution_count": 5,
   "metadata": {},
   "outputs": [],
   "source": [
    "import os\n",
    "# making dirs if needed\n",
    "\n",
    "if not os.path.exists(initial_dpath):\n",
    "    os.makedirs(initial_dpath)\n",
    "if not os.path.exists(intermediate_dpath):\n",
    "    os.makedirs(intermediate_dpath)\n",
    "if not os.path.exists(prepared_dpath):\n",
    "    os.makedirs(prepared_dpath)"
   ]
  },
  {
   "cell_type": "code",
   "execution_count": 6,
   "metadata": {},
   "outputs": [],
   "source": [
    "from pathlib import PurePath\n",
    "\n",
    "# prepare data files\n",
    "with open(PurePath(initial_dpath, \"comments.csv\"), \"w\") as f:\n",
    "    for string in data.index:\n",
    "        f.write(str(data.iloc[string, 0])+\"\\n\")"
   ]
  },
  {
   "cell_type": "code",
   "execution_count": 7,
   "metadata": {},
   "outputs": [],
   "source": [
    "from pathlib import PurePath\n",
    "\n",
    "# prepare data files\n",
    "with open(PurePath(initial_dpath, \"labels.csv\"), \"w\") as f:\n",
    "    for string in data.index:\n",
    "        f.write(str(data.iloc[string, 1])+\"\\n\")"
   ]
  },
  {
   "cell_type": "code",
   "execution_count": 8,
   "metadata": {},
   "outputs": [
    {
     "name": "stdout",
     "output_type": "stream",
     "text": [
      "\u001b[37mPoe =>\u001b[0m \u001b[94mpoetry run python utils/preprocess_text.py\u001b[0m\n"
     ]
    }
   ],
   "source": [
    "# prepare_data script\n",
    "# use poethepoet lib to run scripts\n",
    "\n",
    "!poetry run poe prepare_data"
   ]
  },
  {
   "attachments": {},
   "cell_type": "markdown",
   "metadata": {},
   "source": [
    "## Prepare Word2Vec model"
   ]
  },
  {
   "cell_type": "code",
   "execution_count": 9,
   "metadata": {},
   "outputs": [],
   "source": [
    "# use parsers\n",
    "from utils.parsers import wordtovec_parse_args\n",
    "\n",
    "# models save dir\n",
    "model_path = \"./models\"\n",
    "if not os.path.exists(model_path):\n",
    "    os.mkdirs(model_path)\n",
    "playbook_path = \"./playbooks/word2vec_params.json\"\n",
    "train = \"False\" # set True if train is needed"
   ]
  },
  {
   "cell_type": "code",
   "execution_count": 10,
   "metadata": {},
   "outputs": [],
   "source": [
    "parser_text = [\n",
    "    \"--prepared_dpath\", prepared_dpath,\n",
    "    \"--model_path\",     model_path,\n",
    "    \"--train\",          train, \n",
    "    \"--playbook\",       playbook_path\n",
    "]"
   ]
  },
  {
   "cell_type": "code",
   "execution_count": 11,
   "metadata": {},
   "outputs": [],
   "source": [
    "args = wordtovec_parse_args().parse_args(parser_text)"
   ]
  },
  {
   "cell_type": "code",
   "execution_count": 12,
   "metadata": {},
   "outputs": [],
   "source": [
    "# download word2vec model\n",
    "from utils.wordtovec import WordToVec"
   ]
  },
  {
   "cell_type": "code",
   "execution_count": 13,
   "metadata": {},
   "outputs": [],
   "source": [
    "word2vec = WordToVec(args).load_model()"
   ]
  },
  {
   "attachments": {},
   "cell_type": "markdown",
   "metadata": {},
   "source": [
    "## Prepare the model"
   ]
  },
  {
   "cell_type": "code",
   "execution_count": 16,
   "metadata": {},
   "outputs": [],
   "source": [
    "seed = 1"
   ]
  },
  {
   "cell_type": "code",
   "execution_count": 38,
   "metadata": {},
   "outputs": [],
   "source": [
    "labels = pd.read_csv(\"./data/initial_data/labels.csv\", header=None)\n",
    "labels[0] =  labels[0].astype(int)\n",
    "with open(\"./data/prepared_data/comments_tokinize.csv\", \"r\") as f:\n",
    "    comments = eval(f.read())"
   ]
  },
  {
   "cell_type": "code",
   "execution_count": 39,
   "metadata": {},
   "outputs": [
    {
     "data": {
      "text/plain": [
       "array([1, 0])"
      ]
     },
     "execution_count": 39,
     "metadata": {},
     "output_type": "execute_result"
    }
   ],
   "source": [
    "labels[0].unique()"
   ]
  },
  {
   "cell_type": "code",
   "execution_count": 40,
   "metadata": {},
   "outputs": [],
   "source": [
    "comments = [comment for comment in comments if comment!=[]]"
   ]
  },
  {
   "cell_type": "code",
   "execution_count": 41,
   "metadata": {},
   "outputs": [],
   "source": [
    "# check lens \n",
    "assert len(comments) == labels.shape[0]"
   ]
  },
  {
   "cell_type": "code",
   "execution_count": 42,
   "metadata": {},
   "outputs": [],
   "source": [
    "from sklearn.model_selection import train_test_split\n",
    "\n",
    "X, validX, Y, validY = train_test_split(\n",
    "    comments, \n",
    "    labels, \n",
    "    stratify=labels, \n",
    "    shuffle=True,\n",
    "    random_state=seed,\n",
    "    test_size=0.1\n",
    ")"
   ]
  },
  {
   "cell_type": "code",
   "execution_count": 43,
   "metadata": {},
   "outputs": [],
   "source": [
    "trainX, testX, trainY, testY = train_test_split(\n",
    "    X, \n",
    "    Y,\n",
    "    stratify=Y, \n",
    "    shuffle=True,\n",
    "    random_state=seed,\n",
    "    test_size=0.2\n",
    ")"
   ]
  },
  {
   "cell_type": "code",
   "execution_count": 44,
   "metadata": {},
   "outputs": [],
   "source": [
    "import numpy as np\n",
    "def vectorize(sentence, w2v_model):\n",
    "    words_vecs = [w2v_model.wv[word] for word in sentence if word in w2v_model.wv]\n",
    "    if len(words_vecs) == 0:\n",
    "        return np.zeros(300)\n",
    "    words_vecs = np.array(words_vecs)\n",
    "    return words_vecs.mean(axis=0)"
   ]
  },
  {
   "cell_type": "code",
   "execution_count": 45,
   "metadata": {},
   "outputs": [],
   "source": [
    "trainX = np.array([word2vec.vectorize_sentence(sentence) for sentence in trainX])\n",
    "testX = np.array([word2vec.vectorize_sentence(sentence) for sentence in testX])\n",
    "validX = np.array([word2vec.vectorize_sentence(sentence) for sentence in validX])"
   ]
  },
  {
   "attachments": {},
   "cell_type": "markdown",
   "metadata": {},
   "source": [
    "## Train the model Optimize Hyperparameters"
   ]
  },
  {
   "cell_type": "code",
   "execution_count": 87,
   "metadata": {},
   "outputs": [],
   "source": [
    "from xgboost import XGBClassifier\n",
    "from sklearn.metrics import accuracy_score, precision_score, recall_score, f1_score\n",
    "import optuna\n",
    "from dvclive.optuna import DVCLiveCallback\n",
    "\n",
    "def objective(trial):\n",
    "\n",
    "    bst = XGBClassifier(\n",
    "        n_estimators=trial.suggest_int('n_estimators',1,10), \n",
    "        max_depth=trial.suggest_int('max_depth',1,10), \n",
    "        learning_rate=trial.suggest_float('learning_rate',1e-10,1), \n",
    "        objective='binary:logistic'\n",
    "    )\n",
    "    # fit model\n",
    "    bst.fit(trainX, trainY)\n",
    "    # make predictions\n",
    "    preds = bst.predict(testX) \n",
    "    return (\n",
    "        f1_score(testY.values.reshape(-1), preds, average=\"macro\"),\n",
    "        accuracy_score(testY.values.reshape(-1), preds),\n",
    "        precision_score(testY.values.reshape(-1), preds, average=\"macro\"),\n",
    "        recall_score(testY.values.reshape(-1), preds, average=\"macro\"),\n",
    "    )"
   ]
  },
  {
   "cell_type": "code",
   "execution_count": 89,
   "metadata": {},
   "outputs": [
    {
     "name": "stderr",
     "output_type": "stream",
     "text": [
      "[I 2023-06-10 16:11:38,099] A new study created in memory with name: no-name-f1e4125f-764c-467f-bc33-cb1502fb3a5f\n",
      "/tmp/ipykernel_11711/2336434452.py:11: FutureWarning: suggest_loguniform has been deprecated in v3.0.0. This feature will be removed in v6.0.0. See https://github.com/optuna/optuna/releases/tag/v3.0.0. Use suggest_float(..., log=True) instead.\n",
      "  learning_rate=trial.suggest_loguniform('learning_rate',1e-10,1),\n",
      "/home/dmitry/.cache/pypoetry/virtualenvs/homework-1-z19GceYm-py3.10/lib/python3.10/site-packages/sklearn/metrics/_classification.py:1344: UndefinedMetricWarning: Precision is ill-defined and being set to 0.0 in labels with no predicted samples. Use `zero_division` parameter to control this behavior.\n",
      "  _warn_prf(average, modifier, msg_start, len(result))\n",
      "[I 2023-06-10 16:11:38,847] Trial 0 finished with values: [0.4561933534743202, 0.8388888888888889, 0.41944444444444445, 0.5] and parameters: {'n_estimators': 8, 'max_depth': 1, 'learning_rate': 3.4568327900085083e-10}. \n",
      "WARNING: The following untracked files were present in the workspace before saving but will not be included in the experiment commit:\n",
      "\tEthos_Dataset_Binary.csv, playbooks/word2vec_params.json, utils/wordtovec.py\n",
      "/tmp/ipykernel_11711/2336434452.py:11: FutureWarning: suggest_loguniform has been deprecated in v3.0.0. This feature will be removed in v6.0.0. See https://github.com/optuna/optuna/releases/tag/v3.0.0. Use suggest_float(..., log=True) instead.\n",
      "  learning_rate=trial.suggest_loguniform('learning_rate',1e-10,1),\n",
      "[I 2023-06-10 16:11:40,591] Trial 1 finished with values: [0.5206971677559913, 0.7555555555555555, 0.5225806451612903, 0.5199817309888102] and parameters: {'n_estimators': 1, 'max_depth': 7, 'learning_rate': 0.00045413243512098557}. \n",
      "WARNING: The following untracked files were present in the workspace before saving but will not be included in the experiment commit:\n",
      "\tEthos_Dataset_Binary.csv, playbooks/word2vec_params.json, utils/wordtovec.py\n",
      "/tmp/ipykernel_11711/2336434452.py:11: FutureWarning: suggest_loguniform has been deprecated in v3.0.0. This feature will be removed in v6.0.0. See https://github.com/optuna/optuna/releases/tag/v3.0.0. Use suggest_float(..., log=True) instead.\n",
      "  learning_rate=trial.suggest_loguniform('learning_rate',1e-10,1),\n",
      "[I 2023-06-10 16:11:43,526] Trial 2 finished with values: [0.5206971677559913, 0.7555555555555555, 0.5225806451612903, 0.5199817309888102] and parameters: {'n_estimators': 6, 'max_depth': 8, 'learning_rate': 6.512052314043854e-06}. \n",
      "WARNING: The following untracked files were present in the workspace before saving but will not be included in the experiment commit:\n",
      "\tEthos_Dataset_Binary.csv, playbooks/word2vec_params.json, utils/wordtovec.py\n",
      "/tmp/ipykernel_11711/2336434452.py:11: FutureWarning: suggest_loguniform has been deprecated in v3.0.0. This feature will be removed in v6.0.0. See https://github.com/optuna/optuna/releases/tag/v3.0.0. Use suggest_float(..., log=True) instead.\n",
      "  learning_rate=trial.suggest_loguniform('learning_rate',1e-10,1),\n",
      "[I 2023-06-10 16:11:46,869] Trial 3 finished with values: [0.5088520845231297, 0.7611111111111111, 0.511795166858458, 0.5093628682347567] and parameters: {'n_estimators': 5, 'max_depth': 9, 'learning_rate': 3.110835329620957e-08}. \n",
      "WARNING: The following untracked files were present in the workspace before saving but will not be included in the experiment commit:\n",
      "\tEthos_Dataset_Binary.csv, playbooks/word2vec_params.json, utils/wordtovec.py\n",
      "/tmp/ipykernel_11711/2336434452.py:11: FutureWarning: suggest_loguniform has been deprecated in v3.0.0. This feature will be removed in v6.0.0. See https://github.com/optuna/optuna/releases/tag/v3.0.0. Use suggest_float(..., log=True) instead.\n",
      "  learning_rate=trial.suggest_loguniform('learning_rate',1e-10,1),\n",
      "[I 2023-06-10 16:11:50,026] Trial 4 finished with values: [0.5243070493516071, 0.7611111111111111, 0.5272435897435898, 0.523292989266956] and parameters: {'n_estimators': 8, 'max_depth': 6, 'learning_rate': 8.842983858242142e-07}. \n",
      "WARNING: The following untracked files were present in the workspace before saving but will not be included in the experiment commit:\n",
      "\tEthos_Dataset_Binary.csv, playbooks/word2vec_params.json, utils/wordtovec.py\n",
      "/tmp/ipykernel_11711/2336434452.py:11: FutureWarning: suggest_loguniform has been deprecated in v3.0.0. This feature will be removed in v6.0.0. See https://github.com/optuna/optuna/releases/tag/v3.0.0. Use suggest_float(..., log=True) instead.\n",
      "  learning_rate=trial.suggest_loguniform('learning_rate',1e-10,1),\n",
      "[I 2023-06-10 16:11:52,974] Trial 5 finished with values: [0.48499743232338055, 0.7833333333333333, 0.4901032702237521, 0.49474765928294134] and parameters: {'n_estimators': 5, 'max_depth': 4, 'learning_rate': 1.3118186955652623e-07}. \n",
      "WARNING: The following untracked files were present in the workspace before saving but will not be included in the experiment commit:\n",
      "\tEthos_Dataset_Binary.csv, playbooks/word2vec_params.json, utils/wordtovec.py\n",
      "/tmp/ipykernel_11711/2336434452.py:11: FutureWarning: suggest_loguniform has been deprecated in v3.0.0. This feature will be removed in v6.0.0. See https://github.com/optuna/optuna/releases/tag/v3.0.0. Use suggest_float(..., log=True) instead.\n",
      "  learning_rate=trial.suggest_loguniform('learning_rate',1e-10,1),\n",
      "[I 2023-06-10 16:11:55,456] Trial 6 finished with values: [0.49833457956631094, 0.7722222222222223, 0.5030864197530864, 0.5020552637588491] and parameters: {'n_estimators': 2, 'max_depth': 6, 'learning_rate': 0.2479611833523512}. \n",
      "WARNING: The following untracked files were present in the workspace before saving but will not be included in the experiment commit:\n",
      "\tEthos_Dataset_Binary.csv, playbooks/word2vec_params.json, utils/wordtovec.py\n",
      "/tmp/ipykernel_11711/2336434452.py:11: FutureWarning: suggest_loguniform has been deprecated in v3.0.0. This feature will be removed in v6.0.0. See https://github.com/optuna/optuna/releases/tag/v3.0.0. Use suggest_float(..., log=True) instead.\n",
      "  learning_rate=trial.suggest_loguniform('learning_rate',1e-10,1),\n",
      "/home/dmitry/.cache/pypoetry/virtualenvs/homework-1-z19GceYm-py3.10/lib/python3.10/site-packages/sklearn/metrics/_classification.py:1344: UndefinedMetricWarning: Precision is ill-defined and being set to 0.0 in labels with no predicted samples. Use `zero_division` parameter to control this behavior.\n",
      "  _warn_prf(average, modifier, msg_start, len(result))\n",
      "[I 2023-06-10 16:11:58,699] Trial 7 finished with values: [0.4561933534743202, 0.8388888888888889, 0.41944444444444445, 0.5] and parameters: {'n_estimators': 4, 'max_depth': 5, 'learning_rate': 1.2153587940792515e-09}. \n",
      "WARNING: The following untracked files were present in the workspace before saving but will not be included in the experiment commit:\n",
      "\tEthos_Dataset_Binary.csv, playbooks/word2vec_params.json, utils/wordtovec.py\n",
      "/tmp/ipykernel_11711/2336434452.py:11: FutureWarning: suggest_loguniform has been deprecated in v3.0.0. This feature will be removed in v6.0.0. See https://github.com/optuna/optuna/releases/tag/v3.0.0. Use suggest_float(..., log=True) instead.\n",
      "  learning_rate=trial.suggest_loguniform('learning_rate',1e-10,1),\n",
      "/home/dmitry/.cache/pypoetry/virtualenvs/homework-1-z19GceYm-py3.10/lib/python3.10/site-packages/sklearn/metrics/_classification.py:1344: UndefinedMetricWarning: Precision is ill-defined and being set to 0.0 in labels with no predicted samples. Use `zero_division` parameter to control this behavior.\n",
      "  _warn_prf(average, modifier, msg_start, len(result))\n",
      "[I 2023-06-10 16:12:02,419] Trial 8 finished with values: [0.4561933534743202, 0.8388888888888889, 0.41944444444444445, 0.5] and parameters: {'n_estimators': 9, 'max_depth': 5, 'learning_rate': 5.315519794360084e-10}. \n",
      "WARNING: The following untracked files were present in the workspace before saving but will not be included in the experiment commit:\n",
      "\tEthos_Dataset_Binary.csv, playbooks/word2vec_params.json, utils/wordtovec.py\n",
      "/tmp/ipykernel_11711/2336434452.py:11: FutureWarning: suggest_loguniform has been deprecated in v3.0.0. This feature will be removed in v6.0.0. See https://github.com/optuna/optuna/releases/tag/v3.0.0. Use suggest_float(..., log=True) instead.\n",
      "  learning_rate=trial.suggest_loguniform('learning_rate',1e-10,1),\n",
      "/home/dmitry/.cache/pypoetry/virtualenvs/homework-1-z19GceYm-py3.10/lib/python3.10/site-packages/sklearn/metrics/_classification.py:1344: UndefinedMetricWarning: Precision is ill-defined and being set to 0.0 in labels with no predicted samples. Use `zero_division` parameter to control this behavior.\n",
      "  _warn_prf(average, modifier, msg_start, len(result))\n",
      "[I 2023-06-10 16:12:03,691] Trial 9 finished with values: [0.4561933534743202, 0.8388888888888889, 0.41944444444444445, 0.5] and parameters: {'n_estimators': 4, 'max_depth': 1, 'learning_rate': 0.422406264522319}. \n",
      "WARNING: The following untracked files were present in the workspace before saving but will not be included in the experiment commit:\n",
      "\tEthos_Dataset_Binary.csv, playbooks/word2vec_params.json, utils/wordtovec.py\n",
      "/tmp/ipykernel_11711/2336434452.py:11: FutureWarning: suggest_loguniform has been deprecated in v3.0.0. This feature will be removed in v6.0.0. See https://github.com/optuna/optuna/releases/tag/v3.0.0. Use suggest_float(..., log=True) instead.\n",
      "  learning_rate=trial.suggest_loguniform('learning_rate',1e-10,1),\n",
      "/home/dmitry/.cache/pypoetry/virtualenvs/homework-1-z19GceYm-py3.10/lib/python3.10/site-packages/sklearn/metrics/_classification.py:1344: UndefinedMetricWarning: Precision is ill-defined and being set to 0.0 in labels with no predicted samples. Use `zero_division` parameter to control this behavior.\n",
      "  _warn_prf(average, modifier, msg_start, len(result))\n",
      "[I 2023-06-10 16:12:05,211] Trial 10 finished with values: [0.4561933534743202, 0.8388888888888889, 0.41944444444444445, 0.5] and parameters: {'n_estimators': 5, 'max_depth': 1, 'learning_rate': 1.996544538084223e-07}. \n",
      "WARNING: The following untracked files were present in the workspace before saving but will not be included in the experiment commit:\n",
      "\tEthos_Dataset_Binary.csv, playbooks/word2vec_params.json, utils/wordtovec.py\n",
      "/tmp/ipykernel_11711/2336434452.py:11: FutureWarning: suggest_loguniform has been deprecated in v3.0.0. This feature will be removed in v6.0.0. See https://github.com/optuna/optuna/releases/tag/v3.0.0. Use suggest_float(..., log=True) instead.\n",
      "  learning_rate=trial.suggest_loguniform('learning_rate',1e-10,1),\n",
      "[I 2023-06-10 16:12:08,163] Trial 11 finished with values: [0.5054945054945055, 0.7555555555555555, 0.507338687344226, 0.5060516099566111] and parameters: {'n_estimators': 3, 'max_depth': 5, 'learning_rate': 0.00011384181829924067}. \n",
      "WARNING: The following untracked files were present in the workspace before saving but will not be included in the experiment commit:\n",
      "\tEthos_Dataset_Binary.csv, playbooks/word2vec_params.json, utils/wordtovec.py\n",
      "/tmp/ipykernel_11711/2336434452.py:11: FutureWarning: suggest_loguniform has been deprecated in v3.0.0. This feature will be removed in v6.0.0. See https://github.com/optuna/optuna/releases/tag/v3.0.0. Use suggest_float(..., log=True) instead.\n",
      "  learning_rate=trial.suggest_loguniform('learning_rate',1e-10,1),\n",
      "/home/dmitry/.cache/pypoetry/virtualenvs/homework-1-z19GceYm-py3.10/lib/python3.10/site-packages/sklearn/metrics/_classification.py:1344: UndefinedMetricWarning: Precision is ill-defined and being set to 0.0 in labels with no predicted samples. Use `zero_division` parameter to control this behavior.\n",
      "  _warn_prf(average, modifier, msg_start, len(result))\n",
      "[I 2023-06-10 16:12:12,435] Trial 12 finished with values: [0.4561933534743202, 0.8388888888888889, 0.41944444444444445, 0.5] and parameters: {'n_estimators': 8, 'max_depth': 10, 'learning_rate': 3.951902816209116e-10}. \n",
      "WARNING: The following untracked files were present in the workspace before saving but will not be included in the experiment commit:\n",
      "\tEthos_Dataset_Binary.csv, playbooks/word2vec_params.json, utils/wordtovec.py\n",
      "/tmp/ipykernel_11711/2336434452.py:11: FutureWarning: suggest_loguniform has been deprecated in v3.0.0. This feature will be removed in v6.0.0. See https://github.com/optuna/optuna/releases/tag/v3.0.0. Use suggest_float(..., log=True) instead.\n",
      "  learning_rate=trial.suggest_loguniform('learning_rate',1e-10,1),\n",
      "[I 2023-06-10 16:12:15,960] Trial 13 finished with values: [0.5061728395061729, 0.8222222222222222, 0.564822460776218, 0.5179264672299612] and parameters: {'n_estimators': 10, 'max_depth': 5, 'learning_rate': 0.03643909704386007}. \n",
      "WARNING: The following untracked files were present in the workspace before saving but will not be included in the experiment commit:\n",
      "\tEthos_Dataset_Binary.csv, playbooks/word2vec_params.json, utils/wordtovec.py\n",
      "/tmp/ipykernel_11711/2336434452.py:11: FutureWarning: suggest_loguniform has been deprecated in v3.0.0. This feature will be removed in v6.0.0. See https://github.com/optuna/optuna/releases/tag/v3.0.0. Use suggest_float(..., log=True) instead.\n",
      "  learning_rate=trial.suggest_loguniform('learning_rate',1e-10,1),\n",
      "[I 2023-06-10 16:12:19,511] Trial 14 finished with values: [0.5206971677559913, 0.7555555555555555, 0.5225806451612903, 0.5199817309888102] and parameters: {'n_estimators': 7, 'max_depth': 10, 'learning_rate': 2.4084991750090273e-07}. \n",
      "WARNING: The following untracked files were present in the workspace before saving but will not be included in the experiment commit:\n",
      "\tEthos_Dataset_Binary.csv, playbooks/word2vec_params.json, utils/wordtovec.py\n",
      "/tmp/ipykernel_11711/2336434452.py:11: FutureWarning: suggest_loguniform has been deprecated in v3.0.0. This feature will be removed in v6.0.0. See https://github.com/optuna/optuna/releases/tag/v3.0.0. Use suggest_float(..., log=True) instead.\n",
      "  learning_rate=trial.suggest_loguniform('learning_rate',1e-10,1),\n",
      "/home/dmitry/.cache/pypoetry/virtualenvs/homework-1-z19GceYm-py3.10/lib/python3.10/site-packages/sklearn/metrics/_classification.py:1344: UndefinedMetricWarning: Precision is ill-defined and being set to 0.0 in labels with no predicted samples. Use `zero_division` parameter to control this behavior.\n",
      "  _warn_prf(average, modifier, msg_start, len(result))\n",
      "[I 2023-06-10 16:12:20,957] Trial 15 finished with values: [0.4561933534743202, 0.8388888888888889, 0.41944444444444445, 0.5] and parameters: {'n_estimators': 6, 'max_depth': 1, 'learning_rate': 1.834425329991867e-07}. \n",
      "WARNING: The following untracked files were present in the workspace before saving but will not be included in the experiment commit:\n",
      "\tEthos_Dataset_Binary.csv, playbooks/word2vec_params.json, utils/wordtovec.py\n",
      "/tmp/ipykernel_11711/2336434452.py:11: FutureWarning: suggest_loguniform has been deprecated in v3.0.0. This feature will be removed in v6.0.0. See https://github.com/optuna/optuna/releases/tag/v3.0.0. Use suggest_float(..., log=True) instead.\n",
      "  learning_rate=trial.suggest_loguniform('learning_rate',1e-10,1),\n",
      "/home/dmitry/.cache/pypoetry/virtualenvs/homework-1-z19GceYm-py3.10/lib/python3.10/site-packages/sklearn/metrics/_classification.py:1344: UndefinedMetricWarning: Precision is ill-defined and being set to 0.0 in labels with no predicted samples. Use `zero_division` parameter to control this behavior.\n",
      "  _warn_prf(average, modifier, msg_start, len(result))\n",
      "[I 2023-06-10 16:12:24,555] Trial 16 finished with values: [0.4561933534743202, 0.8388888888888889, 0.41944444444444445, 0.5] and parameters: {'n_estimators': 7, 'max_depth': 10, 'learning_rate': 2.7265110718024037e-09}. \n",
      "WARNING: The following untracked files were present in the workspace before saving but will not be included in the experiment commit:\n",
      "\tEthos_Dataset_Binary.csv, playbooks/word2vec_params.json, utils/wordtovec.py\n",
      "/tmp/ipykernel_11711/2336434452.py:11: FutureWarning: suggest_loguniform has been deprecated in v3.0.0. This feature will be removed in v6.0.0. See https://github.com/optuna/optuna/releases/tag/v3.0.0. Use suggest_float(..., log=True) instead.\n",
      "  learning_rate=trial.suggest_loguniform('learning_rate',1e-10,1),\n",
      "/home/dmitry/.cache/pypoetry/virtualenvs/homework-1-z19GceYm-py3.10/lib/python3.10/site-packages/sklearn/metrics/_classification.py:1344: UndefinedMetricWarning: Precision is ill-defined and being set to 0.0 in labels with no predicted samples. Use `zero_division` parameter to control this behavior.\n",
      "  _warn_prf(average, modifier, msg_start, len(result))\n",
      "[I 2023-06-10 16:12:26,719] Trial 17 finished with values: [0.4561933534743202, 0.8388888888888889, 0.41944444444444445, 0.5] and parameters: {'n_estimators': 6, 'max_depth': 2, 'learning_rate': 0.0007722725414566933}. \n",
      "WARNING: The following untracked files were present in the workspace before saving but will not be included in the experiment commit:\n",
      "\tEthos_Dataset_Binary.csv, playbooks/word2vec_params.json, utils/wordtovec.py\n",
      "/tmp/ipykernel_11711/2336434452.py:11: FutureWarning: suggest_loguniform has been deprecated in v3.0.0. This feature will be removed in v6.0.0. See https://github.com/optuna/optuna/releases/tag/v3.0.0. Use suggest_float(..., log=True) instead.\n",
      "  learning_rate=trial.suggest_loguniform('learning_rate',1e-10,1),\n",
      "/home/dmitry/.cache/pypoetry/virtualenvs/homework-1-z19GceYm-py3.10/lib/python3.10/site-packages/sklearn/metrics/_classification.py:1344: UndefinedMetricWarning: Precision is ill-defined and being set to 0.0 in labels with no predicted samples. Use `zero_division` parameter to control this behavior.\n",
      "  _warn_prf(average, modifier, msg_start, len(result))\n",
      "[I 2023-06-10 16:12:27,775] Trial 18 finished with values: [0.4561933534743202, 0.8388888888888889, 0.41944444444444445, 0.5] and parameters: {'n_estimators': 1, 'max_depth': 3, 'learning_rate': 0.6894662636309858}. \n",
      "WARNING: The following untracked files were present in the workspace before saving but will not be included in the experiment commit:\n",
      "\tEthos_Dataset_Binary.csv, playbooks/word2vec_params.json, utils/wordtovec.py\n",
      "/tmp/ipykernel_11711/2336434452.py:11: FutureWarning: suggest_loguniform has been deprecated in v3.0.0. This feature will be removed in v6.0.0. See https://github.com/optuna/optuna/releases/tag/v3.0.0. Use suggest_float(..., log=True) instead.\n",
      "  learning_rate=trial.suggest_loguniform('learning_rate',1e-10,1),\n",
      "[I 2023-06-10 16:12:31,312] Trial 19 finished with values: [0.5206971677559913, 0.7555555555555555, 0.5225806451612903, 0.5199817309888102] and parameters: {'n_estimators': 10, 'max_depth': 10, 'learning_rate': 3.1400940688412366e-06}. \n",
      "WARNING: The following untracked files were present in the workspace before saving but will not be included in the experiment commit:\n",
      "\tEthos_Dataset_Binary.csv, playbooks/word2vec_params.json, utils/wordtovec.py\n",
      "/tmp/ipykernel_11711/2336434452.py:11: FutureWarning: suggest_loguniform has been deprecated in v3.0.0. This feature will be removed in v6.0.0. See https://github.com/optuna/optuna/releases/tag/v3.0.0. Use suggest_float(..., log=True) instead.\n",
      "  learning_rate=trial.suggest_loguniform('learning_rate',1e-10,1),\n",
      "/home/dmitry/.cache/pypoetry/virtualenvs/homework-1-z19GceYm-py3.10/lib/python3.10/site-packages/sklearn/metrics/_classification.py:1344: UndefinedMetricWarning: Precision is ill-defined and being set to 0.0 in labels with no predicted samples. Use `zero_division` parameter to control this behavior.\n",
      "  _warn_prf(average, modifier, msg_start, len(result))\n",
      "[I 2023-06-10 16:12:32,329] Trial 20 finished with values: [0.4561933534743202, 0.8388888888888889, 0.41944444444444445, 0.5] and parameters: {'n_estimators': 1, 'max_depth': 2, 'learning_rate': 0.004991315290319985}. \n",
      "WARNING: The following untracked files were present in the workspace before saving but will not be included in the experiment commit:\n",
      "\tEthos_Dataset_Binary.csv, playbooks/word2vec_params.json, utils/wordtovec.py\n",
      "/tmp/ipykernel_11711/2336434452.py:11: FutureWarning: suggest_loguniform has been deprecated in v3.0.0. This feature will be removed in v6.0.0. See https://github.com/optuna/optuna/releases/tag/v3.0.0. Use suggest_float(..., log=True) instead.\n",
      "  learning_rate=trial.suggest_loguniform('learning_rate',1e-10,1),\n",
      "/home/dmitry/.cache/pypoetry/virtualenvs/homework-1-z19GceYm-py3.10/lib/python3.10/site-packages/sklearn/metrics/_classification.py:1344: UndefinedMetricWarning: Precision is ill-defined and being set to 0.0 in labels with no predicted samples. Use `zero_division` parameter to control this behavior.\n",
      "  _warn_prf(average, modifier, msg_start, len(result))\n",
      "[I 2023-06-10 16:12:37,152] Trial 21 finished with values: [0.4561933534743202, 0.8388888888888889, 0.41944444444444445, 0.5] and parameters: {'n_estimators': 8, 'max_depth': 6, 'learning_rate': 1.0109299501692698e-10}. \n",
      "WARNING: The following untracked files were present in the workspace before saving but will not be included in the experiment commit:\n",
      "\tEthos_Dataset_Binary.csv, playbooks/word2vec_params.json, utils/wordtovec.py\n",
      "/tmp/ipykernel_11711/2336434452.py:11: FutureWarning: suggest_loguniform has been deprecated in v3.0.0. This feature will be removed in v6.0.0. See https://github.com/optuna/optuna/releases/tag/v3.0.0. Use suggest_float(..., log=True) instead.\n",
      "  learning_rate=trial.suggest_loguniform('learning_rate',1e-10,1),\n",
      "/home/dmitry/.cache/pypoetry/virtualenvs/homework-1-z19GceYm-py3.10/lib/python3.10/site-packages/sklearn/metrics/_classification.py:1344: UndefinedMetricWarning: Precision is ill-defined and being set to 0.0 in labels with no predicted samples. Use `zero_division` parameter to control this behavior.\n",
      "  _warn_prf(average, modifier, msg_start, len(result))\n",
      "[I 2023-06-10 16:12:39,027] Trial 22 finished with values: [0.4561933534743202, 0.8388888888888889, 0.41944444444444445, 0.5] and parameters: {'n_estimators': 2, 'max_depth': 3, 'learning_rate': 1.021007865401928e-09}. \n",
      "WARNING: The following untracked files were present in the workspace before saving but will not be included in the experiment commit:\n",
      "\tEthos_Dataset_Binary.csv, playbooks/word2vec_params.json, utils/wordtovec.py\n",
      "/tmp/ipykernel_11711/2336434452.py:11: FutureWarning: suggest_loguniform has been deprecated in v3.0.0. This feature will be removed in v6.0.0. See https://github.com/optuna/optuna/releases/tag/v3.0.0. Use suggest_float(..., log=True) instead.\n",
      "  learning_rate=trial.suggest_loguniform('learning_rate',1e-10,1),\n",
      "[I 2023-06-10 16:12:44,527] Trial 23 finished with values: [0.5206971677559913, 0.7555555555555555, 0.5225806451612903, 0.5199817309888102] and parameters: {'n_estimators': 4, 'max_depth': 8, 'learning_rate': 0.0002564451650207624}. \n",
      "WARNING: The following untracked files were present in the workspace before saving but will not be included in the experiment commit:\n",
      "\tEthos_Dataset_Binary.csv, playbooks/word2vec_params.json, utils/wordtovec.py\n",
      "/tmp/ipykernel_11711/2336434452.py:11: FutureWarning: suggest_loguniform has been deprecated in v3.0.0. This feature will be removed in v6.0.0. See https://github.com/optuna/optuna/releases/tag/v3.0.0. Use suggest_float(..., log=True) instead.\n",
      "  learning_rate=trial.suggest_loguniform('learning_rate',1e-10,1),\n",
      "/home/dmitry/.cache/pypoetry/virtualenvs/homework-1-z19GceYm-py3.10/lib/python3.10/site-packages/sklearn/metrics/_classification.py:1344: UndefinedMetricWarning: Precision is ill-defined and being set to 0.0 in labels with no predicted samples. Use `zero_division` parameter to control this behavior.\n",
      "  _warn_prf(average, modifier, msg_start, len(result))\n",
      "[I 2023-06-10 16:12:47,422] Trial 24 finished with values: [0.4561933534743202, 0.8388888888888889, 0.41944444444444445, 0.5] and parameters: {'n_estimators': 10, 'max_depth': 1, 'learning_rate': 0.041294835518588195}. \n",
      "WARNING: The following untracked files were present in the workspace before saving but will not be included in the experiment commit:\n",
      "\tEthos_Dataset_Binary.csv, playbooks/word2vec_params.json, utils/wordtovec.py\n",
      "/tmp/ipykernel_11711/2336434452.py:11: FutureWarning: suggest_loguniform has been deprecated in v3.0.0. This feature will be removed in v6.0.0. See https://github.com/optuna/optuna/releases/tag/v3.0.0. Use suggest_float(..., log=True) instead.\n",
      "  learning_rate=trial.suggest_loguniform('learning_rate',1e-10,1),\n",
      "/home/dmitry/.cache/pypoetry/virtualenvs/homework-1-z19GceYm-py3.10/lib/python3.10/site-packages/sklearn/metrics/_classification.py:1344: UndefinedMetricWarning: Precision is ill-defined and being set to 0.0 in labels with no predicted samples. Use `zero_division` parameter to control this behavior.\n",
      "  _warn_prf(average, modifier, msg_start, len(result))\n",
      "[I 2023-06-10 16:12:50,041] Trial 25 finished with values: [0.4561933534743202, 0.8388888888888889, 0.41944444444444445, 0.5] and parameters: {'n_estimators': 2, 'max_depth': 4, 'learning_rate': 6.214713336229251e-09}. \n",
      "WARNING: The following untracked files were present in the workspace before saving but will not be included in the experiment commit:\n",
      "\tEthos_Dataset_Binary.csv, playbooks/word2vec_params.json, utils/wordtovec.py\n",
      "/tmp/ipykernel_11711/2336434452.py:11: FutureWarning: suggest_loguniform has been deprecated in v3.0.0. This feature will be removed in v6.0.0. See https://github.com/optuna/optuna/releases/tag/v3.0.0. Use suggest_float(..., log=True) instead.\n",
      "  learning_rate=trial.suggest_loguniform('learning_rate',1e-10,1),\n",
      "/home/dmitry/.cache/pypoetry/virtualenvs/homework-1-z19GceYm-py3.10/lib/python3.10/site-packages/sklearn/metrics/_classification.py:1344: UndefinedMetricWarning: Precision is ill-defined and being set to 0.0 in labels with no predicted samples. Use `zero_division` parameter to control this behavior.\n",
      "  _warn_prf(average, modifier, msg_start, len(result))\n",
      "[I 2023-06-10 16:12:54,012] Trial 26 finished with values: [0.4561933534743202, 0.8388888888888889, 0.41944444444444445, 0.5] and parameters: {'n_estimators': 4, 'max_depth': 8, 'learning_rate': 1.5509597493762462e-09}. \n",
      "WARNING: The following untracked files were present in the workspace before saving but will not be included in the experiment commit:\n",
      "\tEthos_Dataset_Binary.csv, playbooks/word2vec_params.json, utils/wordtovec.py\n",
      "/tmp/ipykernel_11711/2336434452.py:11: FutureWarning: suggest_loguniform has been deprecated in v3.0.0. This feature will be removed in v6.0.0. See https://github.com/optuna/optuna/releases/tag/v3.0.0. Use suggest_float(..., log=True) instead.\n",
      "  learning_rate=trial.suggest_loguniform('learning_rate',1e-10,1),\n",
      "/home/dmitry/.cache/pypoetry/virtualenvs/homework-1-z19GceYm-py3.10/lib/python3.10/site-packages/sklearn/metrics/_classification.py:1344: UndefinedMetricWarning: Precision is ill-defined and being set to 0.0 in labels with no predicted samples. Use `zero_division` parameter to control this behavior.\n",
      "  _warn_prf(average, modifier, msg_start, len(result))\n",
      "[I 2023-06-10 16:12:57,664] Trial 27 finished with values: [0.4561933534743202, 0.8388888888888889, 0.41944444444444445, 0.5] and parameters: {'n_estimators': 4, 'max_depth': 7, 'learning_rate': 1.6357001387873835e-10}. \n",
      "WARNING: The following untracked files were present in the workspace before saving but will not be included in the experiment commit:\n",
      "\tEthos_Dataset_Binary.csv, playbooks/word2vec_params.json, utils/wordtovec.py\n",
      "/tmp/ipykernel_11711/2336434452.py:11: FutureWarning: suggest_loguniform has been deprecated in v3.0.0. This feature will be removed in v6.0.0. See https://github.com/optuna/optuna/releases/tag/v3.0.0. Use suggest_float(..., log=True) instead.\n",
      "  learning_rate=trial.suggest_loguniform('learning_rate',1e-10,1),\n",
      "/home/dmitry/.cache/pypoetry/virtualenvs/homework-1-z19GceYm-py3.10/lib/python3.10/site-packages/sklearn/metrics/_classification.py:1344: UndefinedMetricWarning: Precision is ill-defined and being set to 0.0 in labels with no predicted samples. Use `zero_division` parameter to control this behavior.\n",
      "  _warn_prf(average, modifier, msg_start, len(result))\n",
      "[I 2023-06-10 16:12:59,101] Trial 28 finished with values: [0.4561933534743202, 0.8388888888888889, 0.41944444444444445, 0.5] and parameters: {'n_estimators': 3, 'max_depth': 1, 'learning_rate': 0.15149704415003643}. \n",
      "WARNING: The following untracked files were present in the workspace before saving but will not be included in the experiment commit:\n",
      "\tEthos_Dataset_Binary.csv, playbooks/word2vec_params.json, utils/wordtovec.py\n",
      "/tmp/ipykernel_11711/2336434452.py:11: FutureWarning: suggest_loguniform has been deprecated in v3.0.0. This feature will be removed in v6.0.0. See https://github.com/optuna/optuna/releases/tag/v3.0.0. Use suggest_float(..., log=True) instead.\n",
      "  learning_rate=trial.suggest_loguniform('learning_rate',1e-10,1),\n",
      "[I 2023-06-10 16:13:04,875] Trial 29 finished with values: [0.5088520845231297, 0.7611111111111111, 0.511795166858458, 0.5093628682347567] and parameters: {'n_estimators': 8, 'max_depth': 9, 'learning_rate': 1.5383395356311612e-08}. \n",
      "WARNING: The following untracked files were present in the workspace before saving but will not be included in the experiment commit:\n",
      "\tEthos_Dataset_Binary.csv, playbooks/word2vec_params.json, utils/wordtovec.py\n",
      "/tmp/ipykernel_11711/2336434452.py:11: FutureWarning: suggest_loguniform has been deprecated in v3.0.0. This feature will be removed in v6.0.0. See https://github.com/optuna/optuna/releases/tag/v3.0.0. Use suggest_float(..., log=True) instead.\n",
      "  learning_rate=trial.suggest_loguniform('learning_rate',1e-10,1),\n",
      "/home/dmitry/.cache/pypoetry/virtualenvs/homework-1-z19GceYm-py3.10/lib/python3.10/site-packages/sklearn/metrics/_classification.py:1344: UndefinedMetricWarning: Precision is ill-defined and being set to 0.0 in labels with no predicted samples. Use `zero_division` parameter to control this behavior.\n",
      "  _warn_prf(average, modifier, msg_start, len(result))\n",
      "[I 2023-06-10 16:13:07,921] Trial 30 finished with values: [0.4561933534743202, 0.8388888888888889, 0.41944444444444445, 0.5] and parameters: {'n_estimators': 2, 'max_depth': 7, 'learning_rate': 1.6921079774901708e-08}. \n",
      "WARNING: The following untracked files were present in the workspace before saving but will not be included in the experiment commit:\n",
      "\tEthos_Dataset_Binary.csv, playbooks/word2vec_params.json, utils/wordtovec.py\n",
      "/tmp/ipykernel_11711/2336434452.py:11: FutureWarning: suggest_loguniform has been deprecated in v3.0.0. This feature will be removed in v6.0.0. See https://github.com/optuna/optuna/releases/tag/v3.0.0. Use suggest_float(..., log=True) instead.\n",
      "  learning_rate=trial.suggest_loguniform('learning_rate',1e-10,1),\n",
      "[I 2023-06-10 16:13:11,011] Trial 31 finished with values: [0.5642285965813221, 0.8166666666666667, 0.6062822719449226, 0.5564055720484129] and parameters: {'n_estimators': 3, 'max_depth': 6, 'learning_rate': 0.5048029386821778}. \n",
      "WARNING: The following untracked files were present in the workspace before saving but will not be included in the experiment commit:\n",
      "\tEthos_Dataset_Binary.csv, playbooks/word2vec_params.json, utils/wordtovec.py\n",
      "/tmp/ipykernel_11711/2336434452.py:11: FutureWarning: suggest_loguniform has been deprecated in v3.0.0. This feature will be removed in v6.0.0. See https://github.com/optuna/optuna/releases/tag/v3.0.0. Use suggest_float(..., log=True) instead.\n",
      "  learning_rate=trial.suggest_loguniform('learning_rate',1e-10,1),\n",
      "/home/dmitry/.cache/pypoetry/virtualenvs/homework-1-z19GceYm-py3.10/lib/python3.10/site-packages/sklearn/metrics/_classification.py:1344: UndefinedMetricWarning: Precision is ill-defined and being set to 0.0 in labels with no predicted samples. Use `zero_division` parameter to control this behavior.\n",
      "  _warn_prf(average, modifier, msg_start, len(result))\n",
      "[I 2023-06-10 16:13:13,522] Trial 32 finished with values: [0.4561933534743202, 0.8388888888888889, 0.41944444444444445, 0.5] and parameters: {'n_estimators': 3, 'max_depth': 3, 'learning_rate': 1.249056507075955e-09}. \n",
      "WARNING: The following untracked files were present in the workspace before saving but will not be included in the experiment commit:\n",
      "\tEthos_Dataset_Binary.csv, playbooks/word2vec_params.json, utils/wordtovec.py\n",
      "/tmp/ipykernel_11711/2336434452.py:11: FutureWarning: suggest_loguniform has been deprecated in v3.0.0. This feature will be removed in v6.0.0. See https://github.com/optuna/optuna/releases/tag/v3.0.0. Use suggest_float(..., log=True) instead.\n",
      "  learning_rate=trial.suggest_loguniform('learning_rate',1e-10,1),\n",
      "[I 2023-06-10 16:13:17,352] Trial 33 finished with values: [0.546432302870137, 0.7722222222222223, 0.5512820512820513, 0.5438456268554465] and parameters: {'n_estimators': 10, 'max_depth': 4, 'learning_rate': 9.057651976921425e-05}. \n",
      "WARNING: The following untracked files were present in the workspace before saving but will not be included in the experiment commit:\n",
      "\tEthos_Dataset_Binary.csv, playbooks/word2vec_params.json, utils/wordtovec.py\n",
      "/tmp/ipykernel_11711/2336434452.py:11: FutureWarning: suggest_loguniform has been deprecated in v3.0.0. This feature will be removed in v6.0.0. See https://github.com/optuna/optuna/releases/tag/v3.0.0. Use suggest_float(..., log=True) instead.\n",
      "  learning_rate=trial.suggest_loguniform('learning_rate',1e-10,1),\n",
      "[I 2023-06-10 16:13:21,041] Trial 34 finished with values: [0.5243070493516071, 0.7611111111111111, 0.5272435897435898, 0.523292989266956] and parameters: {'n_estimators': 6, 'max_depth': 6, 'learning_rate': 5.4309868576945303e-05}. \n",
      "WARNING: The following untracked files were present in the workspace before saving but will not be included in the experiment commit:\n",
      "\tEthos_Dataset_Binary.csv, playbooks/word2vec_params.json, utils/wordtovec.py\n",
      "/tmp/ipykernel_11711/2336434452.py:11: FutureWarning: suggest_loguniform has been deprecated in v3.0.0. This feature will be removed in v6.0.0. See https://github.com/optuna/optuna/releases/tag/v3.0.0. Use suggest_float(..., log=True) instead.\n",
      "  learning_rate=trial.suggest_loguniform('learning_rate',1e-10,1),\n",
      "/home/dmitry/.cache/pypoetry/virtualenvs/homework-1-z19GceYm-py3.10/lib/python3.10/site-packages/sklearn/metrics/_classification.py:1344: UndefinedMetricWarning: Precision is ill-defined and being set to 0.0 in labels with no predicted samples. Use `zero_division` parameter to control this behavior.\n",
      "  _warn_prf(average, modifier, msg_start, len(result))\n",
      "[I 2023-06-10 16:13:22,945] Trial 35 finished with values: [0.4561933534743202, 0.8388888888888889, 0.41944444444444445, 0.5] and parameters: {'n_estimators': 5, 'max_depth': 1, 'learning_rate': 4.988646812802948e-06}. \n",
      "WARNING: The following untracked files were present in the workspace before saving but will not be included in the experiment commit:\n",
      "\tEthos_Dataset_Binary.csv, playbooks/word2vec_params.json, utils/wordtovec.py\n",
      "/tmp/ipykernel_11711/2336434452.py:11: FutureWarning: suggest_loguniform has been deprecated in v3.0.0. This feature will be removed in v6.0.0. See https://github.com/optuna/optuna/releases/tag/v3.0.0. Use suggest_float(..., log=True) instead.\n",
      "  learning_rate=trial.suggest_loguniform('learning_rate',1e-10,1),\n",
      "/home/dmitry/.cache/pypoetry/virtualenvs/homework-1-z19GceYm-py3.10/lib/python3.10/site-packages/sklearn/metrics/_classification.py:1344: UndefinedMetricWarning: Precision is ill-defined and being set to 0.0 in labels with no predicted samples. Use `zero_division` parameter to control this behavior.\n",
      "  _warn_prf(average, modifier, msg_start, len(result))\n",
      "[I 2023-06-10 16:13:25,769] Trial 36 finished with values: [0.4561933534743202, 0.8388888888888889, 0.41944444444444445, 0.5] and parameters: {'n_estimators': 3, 'max_depth': 3, 'learning_rate': 0.13201136435908456}. \n",
      "WARNING: The following untracked files were present in the workspace before saving but will not be included in the experiment commit:\n",
      "\tEthos_Dataset_Binary.csv, playbooks/word2vec_params.json, utils/wordtovec.py\n",
      "/tmp/ipykernel_11711/2336434452.py:11: FutureWarning: suggest_loguniform has been deprecated in v3.0.0. This feature will be removed in v6.0.0. See https://github.com/optuna/optuna/releases/tag/v3.0.0. Use suggest_float(..., log=True) instead.\n",
      "  learning_rate=trial.suggest_loguniform('learning_rate',1e-10,1),\n",
      "/home/dmitry/.cache/pypoetry/virtualenvs/homework-1-z19GceYm-py3.10/lib/python3.10/site-packages/sklearn/metrics/_classification.py:1344: UndefinedMetricWarning: Precision is ill-defined and being set to 0.0 in labels with no predicted samples. Use `zero_division` parameter to control this behavior.\n",
      "  _warn_prf(average, modifier, msg_start, len(result))\n",
      "[I 2023-06-10 16:13:29,510] Trial 37 finished with values: [0.4561933534743202, 0.8388888888888889, 0.41944444444444445, 0.5] and parameters: {'n_estimators': 6, 'max_depth': 3, 'learning_rate': 3.2258510730939658e-06}. \n",
      "WARNING: The following untracked files were present in the workspace before saving but will not be included in the experiment commit:\n",
      "\tEthos_Dataset_Binary.csv, playbooks/word2vec_params.json, utils/wordtovec.py\n",
      "/tmp/ipykernel_11711/2336434452.py:11: FutureWarning: suggest_loguniform has been deprecated in v3.0.0. This feature will be removed in v6.0.0. See https://github.com/optuna/optuna/releases/tag/v3.0.0. Use suggest_float(..., log=True) instead.\n",
      "  learning_rate=trial.suggest_loguniform('learning_rate',1e-10,1),\n",
      "[I 2023-06-10 16:13:32,844] Trial 38 finished with values: [0.49090909090909096, 0.8444444444444444, 0.9217877094972067, 0.5172413793103449] and parameters: {'n_estimators': 8, 'max_depth': 3, 'learning_rate': 0.008325174695269208}. \n",
      "WARNING: The following untracked files were present in the workspace before saving but will not be included in the experiment commit:\n",
      "\tEthos_Dataset_Binary.csv, playbooks/word2vec_params.json, utils/wordtovec.py\n",
      "/tmp/ipykernel_11711/2336434452.py:11: FutureWarning: suggest_loguniform has been deprecated in v3.0.0. This feature will be removed in v6.0.0. See https://github.com/optuna/optuna/releases/tag/v3.0.0. Use suggest_float(..., log=True) instead.\n",
      "  learning_rate=trial.suggest_loguniform('learning_rate',1e-10,1),\n",
      "[I 2023-06-10 16:13:35,998] Trial 39 finished with values: [0.5206971677559913, 0.7555555555555555, 0.5225806451612903, 0.5199817309888102] and parameters: {'n_estimators': 2, 'max_depth': 8, 'learning_rate': 0.0005557311030463792}. \n",
      "WARNING: The following untracked files were present in the workspace before saving but will not be included in the experiment commit:\n",
      "\tEthos_Dataset_Binary.csv, playbooks/word2vec_params.json, utils/wordtovec.py\n",
      "/tmp/ipykernel_11711/2336434452.py:11: FutureWarning: suggest_loguniform has been deprecated in v3.0.0. This feature will be removed in v6.0.0. See https://github.com/optuna/optuna/releases/tag/v3.0.0. Use suggest_float(..., log=True) instead.\n",
      "  learning_rate=trial.suggest_loguniform('learning_rate',1e-10,1),\n",
      "/home/dmitry/.cache/pypoetry/virtualenvs/homework-1-z19GceYm-py3.10/lib/python3.10/site-packages/sklearn/metrics/_classification.py:1344: UndefinedMetricWarning: Precision is ill-defined and being set to 0.0 in labels with no predicted samples. Use `zero_division` parameter to control this behavior.\n",
      "  _warn_prf(average, modifier, msg_start, len(result))\n",
      "[I 2023-06-10 16:13:37,693] Trial 40 finished with values: [0.4561933534743202, 0.8388888888888889, 0.41944444444444445, 0.5] and parameters: {'n_estimators': 2, 'max_depth': 3, 'learning_rate': 0.009359088199585584}. \n",
      "WARNING: The following untracked files were present in the workspace before saving but will not be included in the experiment commit:\n",
      "\tEthos_Dataset_Binary.csv, playbooks/word2vec_params.json, utils/wordtovec.py\n",
      "/tmp/ipykernel_11711/2336434452.py:11: FutureWarning: suggest_loguniform has been deprecated in v3.0.0. This feature will be removed in v6.0.0. See https://github.com/optuna/optuna/releases/tag/v3.0.0. Use suggest_float(..., log=True) instead.\n",
      "  learning_rate=trial.suggest_loguniform('learning_rate',1e-10,1),\n",
      "[I 2023-06-10 16:13:40,329] Trial 41 finished with values: [0.48216340621403914, 0.7777777777777778, 0.4848484848484848, 0.49143640100479563] and parameters: {'n_estimators': 2, 'max_depth': 5, 'learning_rate': 0.004044090203777335}. \n",
      "WARNING: The following untracked files were present in the workspace before saving but will not be included in the experiment commit:\n",
      "\tEthos_Dataset_Binary.csv, playbooks/word2vec_params.json, utils/wordtovec.py\n",
      "/tmp/ipykernel_11711/2336434452.py:11: FutureWarning: suggest_loguniform has been deprecated in v3.0.0. This feature will be removed in v6.0.0. See https://github.com/optuna/optuna/releases/tag/v3.0.0. Use suggest_float(..., log=True) instead.\n",
      "  learning_rate=trial.suggest_loguniform('learning_rate',1e-10,1),\n",
      "[I 2023-06-10 16:13:45,548] Trial 42 finished with values: [0.45121951219512196, 0.8222222222222222, 0.4180790960451977, 0.4900662251655629] and parameters: {'n_estimators': 8, 'max_depth': 4, 'learning_rate': 0.0840831347253805}. \n",
      "WARNING: The following untracked files were present in the workspace before saving but will not be included in the experiment commit:\n",
      "\tEthos_Dataset_Binary.csv, playbooks/word2vec_params.json, utils/wordtovec.py\n",
      "/tmp/ipykernel_11711/2336434452.py:11: FutureWarning: suggest_loguniform has been deprecated in v3.0.0. This feature will be removed in v6.0.0. See https://github.com/optuna/optuna/releases/tag/v3.0.0. Use suggest_float(..., log=True) instead.\n",
      "  learning_rate=trial.suggest_loguniform('learning_rate',1e-10,1),\n",
      "/home/dmitry/.cache/pypoetry/virtualenvs/homework-1-z19GceYm-py3.10/lib/python3.10/site-packages/sklearn/metrics/_classification.py:1344: UndefinedMetricWarning: Precision is ill-defined and being set to 0.0 in labels with no predicted samples. Use `zero_division` parameter to control this behavior.\n",
      "  _warn_prf(average, modifier, msg_start, len(result))\n",
      "[I 2023-06-10 16:13:49,303] Trial 43 finished with values: [0.4561933534743202, 0.8388888888888889, 0.41944444444444445, 0.5] and parameters: {'n_estimators': 8, 'max_depth': 7, 'learning_rate': 3.4307546188175568e-09}. \n",
      "WARNING: The following untracked files were present in the workspace before saving but will not be included in the experiment commit:\n",
      "\tEthos_Dataset_Binary.csv, playbooks/word2vec_params.json, utils/wordtovec.py\n",
      "/tmp/ipykernel_11711/2336434452.py:11: FutureWarning: suggest_loguniform has been deprecated in v3.0.0. This feature will be removed in v6.0.0. See https://github.com/optuna/optuna/releases/tag/v3.0.0. Use suggest_float(..., log=True) instead.\n",
      "  learning_rate=trial.suggest_loguniform('learning_rate',1e-10,1),\n",
      "[I 2023-06-10 16:13:52,044] Trial 44 finished with values: [0.5015231237884242, 0.7777777777777778, 0.5084806928906532, 0.5053665220369947] and parameters: {'n_estimators': 4, 'max_depth': 4, 'learning_rate': 0.005706223688341342}. \n",
      "WARNING: The following untracked files were present in the workspace before saving but will not be included in the experiment commit:\n",
      "\tEthos_Dataset_Binary.csv, playbooks/word2vec_params.json, utils/wordtovec.py\n",
      "/tmp/ipykernel_11711/2336434452.py:11: FutureWarning: suggest_loguniform has been deprecated in v3.0.0. This feature will be removed in v6.0.0. See https://github.com/optuna/optuna/releases/tag/v3.0.0. Use suggest_float(..., log=True) instead.\n",
      "  learning_rate=trial.suggest_loguniform('learning_rate',1e-10,1),\n",
      "[I 2023-06-10 16:13:55,937] Trial 45 finished with values: [0.5157162543473981, 0.7722222222222223, 0.521875, 0.5159853847910482] and parameters: {'n_estimators': 5, 'max_depth': 6, 'learning_rate': 1.554051584177099e-08}. \n",
      "WARNING: The following untracked files were present in the workspace before saving but will not be included in the experiment commit:\n",
      "\tEthos_Dataset_Binary.csv, playbooks/word2vec_params.json, utils/wordtovec.py\n",
      "/tmp/ipykernel_11711/2336434452.py:11: FutureWarning: suggest_loguniform has been deprecated in v3.0.0. This feature will be removed in v6.0.0. See https://github.com/optuna/optuna/releases/tag/v3.0.0. Use suggest_float(..., log=True) instead.\n",
      "  learning_rate=trial.suggest_loguniform('learning_rate',1e-10,1),\n",
      "/home/dmitry/.cache/pypoetry/virtualenvs/homework-1-z19GceYm-py3.10/lib/python3.10/site-packages/sklearn/metrics/_classification.py:1344: UndefinedMetricWarning: Precision is ill-defined and being set to 0.0 in labels with no predicted samples. Use `zero_division` parameter to control this behavior.\n",
      "  _warn_prf(average, modifier, msg_start, len(result))\n",
      "[I 2023-06-10 16:13:59,317] Trial 46 finished with values: [0.4561933534743202, 0.8388888888888889, 0.41944444444444445, 0.5] and parameters: {'n_estimators': 7, 'max_depth': 5, 'learning_rate': 8.517111060244987e-09}. \n",
      "WARNING: The following untracked files were present in the workspace before saving but will not be included in the experiment commit:\n",
      "\tEthos_Dataset_Binary.csv, playbooks/word2vec_params.json, utils/wordtovec.py\n",
      "/tmp/ipykernel_11711/2336434452.py:11: FutureWarning: suggest_loguniform has been deprecated in v3.0.0. This feature will be removed in v6.0.0. See https://github.com/optuna/optuna/releases/tag/v3.0.0. Use suggest_float(..., log=True) instead.\n",
      "  learning_rate=trial.suggest_loguniform('learning_rate',1e-10,1),\n",
      "[I 2023-06-10 16:14:02,083] Trial 47 finished with values: [0.5206971677559913, 0.7555555555555555, 0.5225806451612903, 0.5199817309888102] and parameters: {'n_estimators': 1, 'max_depth': 10, 'learning_rate': 0.00011211749294375069}. \n",
      "WARNING: The following untracked files were present in the workspace before saving but will not be included in the experiment commit:\n",
      "\tEthos_Dataset_Binary.csv, playbooks/word2vec_params.json, utils/wordtovec.py\n",
      "/tmp/ipykernel_11711/2336434452.py:11: FutureWarning: suggest_loguniform has been deprecated in v3.0.0. This feature will be removed in v6.0.0. See https://github.com/optuna/optuna/releases/tag/v3.0.0. Use suggest_float(..., log=True) instead.\n",
      "  learning_rate=trial.suggest_loguniform('learning_rate',1e-10,1),\n",
      "/home/dmitry/.cache/pypoetry/virtualenvs/homework-1-z19GceYm-py3.10/lib/python3.10/site-packages/sklearn/metrics/_classification.py:1344: UndefinedMetricWarning: Precision is ill-defined and being set to 0.0 in labels with no predicted samples. Use `zero_division` parameter to control this behavior.\n",
      "  _warn_prf(average, modifier, msg_start, len(result))\n",
      "[I 2023-06-10 16:14:08,069] Trial 48 finished with values: [0.4561933534743202, 0.8388888888888889, 0.41944444444444445, 0.5] and parameters: {'n_estimators': 10, 'max_depth': 4, 'learning_rate': 8.209392957646887e-10}. \n"
     ]
    }
   ],
   "source": [
    "study = optuna.create_study(directions=[\"maximize\", \"maximize\",\"maximize\",\"maximize\"])\n",
    "study.optimize(objective, n_trials=100, callbacks=[DVCLiveCallback()])"
   ]
  },
  {
   "cell_type": "code",
   "execution_count": null,
   "metadata": {},
   "outputs": [],
   "source": []
  },
  {
   "cell_type": "code",
   "execution_count": 66,
   "metadata": {},
   "outputs": [
    {
     "name": "stdout",
     "output_type": "stream",
     "text": [
      "Accuracy: 0.8388888888888889\n",
      "Precision: 0.41944444444444445\n",
      "Recall: 0.5\n",
      "F1 score: 0.4561933534743202\n"
     ]
    },
    {
     "name": "stderr",
     "output_type": "stream",
     "text": [
      "/home/dmitry/.cache/pypoetry/virtualenvs/homework-1-z19GceYm-py3.10/lib/python3.10/site-packages/sklearn/metrics/_classification.py:1344: UndefinedMetricWarning: Precision is ill-defined and being set to 0.0 in labels with no predicted samples. Use `zero_division` parameter to control this behavior.\n",
      "  _warn_prf(average, modifier, msg_start, len(result))\n"
     ]
    }
   ],
   "source": [
    "\n",
    "print('Accuracy:', accuracy_score(testY.values.reshape(-1), preds))\n",
    "print('Precision:', precision_score(testY.values.reshape(-1), preds, average=\"macro\"))\n",
    "print('Recall:', recall_score(testY.values.reshape(-1), preds, average=\"macro\"))\n",
    "print('F1 score:', f1_score(testY.values.reshape(-1), preds, average=\"macro\"))"
   ]
  },
  {
   "cell_type": "code",
   "execution_count": null,
   "metadata": {},
   "outputs": [],
   "source": []
  }
 ],
 "metadata": {
  "kernelspec": {
   "display_name": ".venv",
   "language": "python",
   "name": "python3"
  },
  "language_info": {
   "codemirror_mode": {
    "name": "ipython",
    "version": 3
   },
   "file_extension": ".py",
   "mimetype": "text/x-python",
   "name": "python",
   "nbconvert_exporter": "python",
   "pygments_lexer": "ipython3",
   "version": "3.10.6"
  },
  "orig_nbformat": 4
 },
 "nbformat": 4,
 "nbformat_minor": 2
}

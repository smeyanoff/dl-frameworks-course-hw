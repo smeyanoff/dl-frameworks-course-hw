{
 "cells": [
  {
   "cell_type": "code",
   "execution_count": 1,
   "metadata": {},
   "outputs": [],
   "source": [
    "%load_ext autoreload\n",
    "%autoreload"
   ]
  },
  {
   "cell_type": "code",
   "execution_count": 2,
   "metadata": {},
   "outputs": [],
   "source": [
    "import pandas as pd"
   ]
  },
  {
   "cell_type": "code",
   "execution_count": 3,
   "metadata": {},
   "outputs": [],
   "source": [
    "data = pd.read_csv(\n",
    "    \"Ethos_Dataset_Binary.csv\",\n",
    "    sep=\";\"\n",
    ")"
   ]
  },
  {
   "attachments": {},
   "cell_type": "markdown",
   "metadata": {},
   "source": [
    "### DataSet Prepare"
   ]
  },
  {
   "cell_type": "code",
   "execution_count": 4,
   "metadata": {},
   "outputs": [],
   "source": [
    "initial_dpath = \"./data/initial_data/\"\n",
    "intermediate_dpath = \"./data/intermediate_data/\"\n",
    "prepared_dpath = \"./data/prepared_data/\""
   ]
  },
  {
   "cell_type": "code",
   "execution_count": 5,
   "metadata": {},
   "outputs": [],
   "source": [
    "import os\n",
    "# making dirs if needed\n",
    "\n",
    "if not os.path.exists(initial_dpath):\n",
    "    os.makedirs(initial_dpath)\n",
    "if not os.path.exists(intermediate_dpath):\n",
    "    os.makedirs(intermediate_dpath)\n",
    "if not os.path.exists(prepared_dpath):\n",
    "    os.makedirs(prepared_dpath)"
   ]
  },
  {
   "cell_type": "code",
   "execution_count": 6,
   "metadata": {},
   "outputs": [],
   "source": [
    "from pathlib import PurePath\n",
    "\n",
    "# prepare data files\n",
    "with open(PurePath(initial_dpath, \"comments.csv\"), \"w\") as f:\n",
    "    for string in data.index:\n",
    "        f.write(str(data.iloc[string, 0])+\"\\n\")"
   ]
  },
  {
   "cell_type": "code",
   "execution_count": 7,
   "metadata": {},
   "outputs": [],
   "source": [
    "from pathlib import PurePath\n",
    "\n",
    "# prepare data files\n",
    "with open(PurePath(initial_dpath, \"labels.csv\"), \"w\") as f:\n",
    "    for string in data.index:\n",
    "        f.write(str(data.iloc[string, 1])+\"\\n\")"
   ]
  },
  {
   "cell_type": "code",
   "execution_count": 8,
   "metadata": {},
   "outputs": [
    {
     "name": "stdout",
     "output_type": "stream",
     "text": [
      "\u001b[37mPoe =>\u001b[0m \u001b[94mpoetry run python utils/preprocess_text.py\u001b[0m\n"
     ]
    }
   ],
   "source": [
    "# prepare_data script\n",
    "# use poethepoet lib to run scripts\n",
    "\n",
    "!poetry run poe prepare_data"
   ]
  },
  {
   "attachments": {},
   "cell_type": "markdown",
   "metadata": {},
   "source": [
    "## Prepare Word2Vec model"
   ]
  },
  {
   "cell_type": "code",
   "execution_count": 9,
   "metadata": {},
   "outputs": [],
   "source": [
    "# use parsers\n",
    "from utils.parsers import wordtovec_parse_args\n",
    "\n",
    "# models save dir\n",
    "model_path = \"./models\"\n",
    "if not os.path.exists(model_path):\n",
    "    os.mkdirs(model_path)\n",
    "playbook_path = \"./playbooks/word2vec_params.json\"\n",
    "train = \"False\" # set True if train is needed"
   ]
  },
  {
   "cell_type": "code",
   "execution_count": 10,
   "metadata": {},
   "outputs": [],
   "source": [
    "parser_text = [\n",
    "    \"--prepared_dpath\", prepared_dpath,\n",
    "    \"--model_path\",     model_path,\n",
    "    \"--train\",          train, \n",
    "    \"--playbook\",       playbook_path\n",
    "]"
   ]
  },
  {
   "cell_type": "code",
   "execution_count": 11,
   "metadata": {},
   "outputs": [],
   "source": [
    "args = wordtovec_parse_args().parse_args(parser_text)"
   ]
  },
  {
   "cell_type": "code",
   "execution_count": 12,
   "metadata": {},
   "outputs": [],
   "source": [
    "# download word2vec model\n",
    "from utils.wordtovec import WordToVec"
   ]
  },
  {
   "cell_type": "code",
   "execution_count": 13,
   "metadata": {},
   "outputs": [],
   "source": [
    "word2vec = WordToVec(args).load_model()"
   ]
  },
  {
   "attachments": {},
   "cell_type": "markdown",
   "metadata": {},
   "source": [
    "## Prepare the model"
   ]
  },
  {
   "cell_type": "code",
   "execution_count": 14,
   "metadata": {},
   "outputs": [],
   "source": [
    "seed = 1"
   ]
  },
  {
   "cell_type": "code",
   "execution_count": 15,
   "metadata": {},
   "outputs": [],
   "source": [
    "labels = pd.read_csv(\"./data/initial_data/labels.csv\", header=None)\n",
    "labels[0] =  labels[0].astype(int)\n",
    "with open(\"./data/prepared_data/comments_tokinize.csv\", \"r\") as f:\n",
    "    comments = eval(f.read())"
   ]
  },
  {
   "cell_type": "code",
   "execution_count": 16,
   "metadata": {},
   "outputs": [
    {
     "data": {
      "text/plain": [
       "array([1, 0])"
      ]
     },
     "execution_count": 16,
     "metadata": {},
     "output_type": "execute_result"
    }
   ],
   "source": [
    "labels[0].unique()"
   ]
  },
  {
   "cell_type": "code",
   "execution_count": 17,
   "metadata": {},
   "outputs": [],
   "source": [
    "comments = [comment for comment in comments if comment!=[]]"
   ]
  },
  {
   "cell_type": "code",
   "execution_count": 18,
   "metadata": {},
   "outputs": [],
   "source": [
    "# check lens \n",
    "assert len(comments) == labels.shape[0]"
   ]
  },
  {
   "cell_type": "code",
   "execution_count": 19,
   "metadata": {},
   "outputs": [],
   "source": [
    "from sklearn.model_selection import train_test_split\n",
    "\n",
    "X, validX, Y, validY = train_test_split(\n",
    "    comments, \n",
    "    labels, \n",
    "    stratify=labels, \n",
    "    shuffle=True,\n",
    "    random_state=seed,\n",
    "    test_size=0.1\n",
    ")"
   ]
  },
  {
   "cell_type": "code",
   "execution_count": 20,
   "metadata": {},
   "outputs": [],
   "source": [
    "trainX, testX, trainY, testY = train_test_split(\n",
    "    X, \n",
    "    Y,\n",
    "    stratify=Y, \n",
    "    shuffle=True,\n",
    "    random_state=seed,\n",
    "    test_size=0.2\n",
    ")"
   ]
  },
  {
   "cell_type": "code",
   "execution_count": 21,
   "metadata": {},
   "outputs": [],
   "source": [
    "import numpy as np\n",
    "def vectorize(sentence, w2v_model):\n",
    "    words_vecs = [w2v_model.wv[word] for word in sentence if word in w2v_model.wv]\n",
    "    if len(words_vecs) == 0:\n",
    "        return np.zeros(300)\n",
    "    words_vecs = np.array(words_vecs)\n",
    "    return words_vecs.mean(axis=0)"
   ]
  },
  {
   "cell_type": "code",
   "execution_count": 22,
   "metadata": {},
   "outputs": [],
   "source": [
    "trainX = np.array([word2vec.vectorize_sentence(sentence) for sentence in trainX])\n",
    "testX = np.array([word2vec.vectorize_sentence(sentence) for sentence in testX])\n",
    "validX = np.array([word2vec.vectorize_sentence(sentence) for sentence in validX])"
   ]
  },
  {
   "attachments": {},
   "cell_type": "markdown",
   "metadata": {},
   "source": [
    "## Train the model Optimize Hyperparameters"
   ]
  },
  {
   "cell_type": "code",
   "execution_count": 23,
   "metadata": {},
   "outputs": [
    {
     "name": "stderr",
     "output_type": "stream",
     "text": [
      "/home/dmitry/.cache/pypoetry/virtualenvs/homework-1-z19GceYm-py3.10/lib/python3.10/site-packages/tqdm/auto.py:21: TqdmWarning: IProgress not found. Please update jupyter and ipywidgets. See https://ipywidgets.readthedocs.io/en/stable/user_install.html\n",
      "  from .autonotebook import tqdm as notebook_tqdm\n"
     ]
    }
   ],
   "source": [
    "from xgboost import XGBClassifier\n",
    "from sklearn.metrics import accuracy_score, precision_score, recall_score, f1_score\n",
    "import optuna\n",
    "from dvclive.optuna import DVCLiveCallback\n",
    "\n",
    "def objective(trial):\n",
    "\n",
    "    bst = XGBClassifier(\n",
    "        n_estimators=trial.suggest_int('n_estimators',1,10), \n",
    "        max_depth=trial.suggest_int('max_depth',1,10), \n",
    "        learning_rate=trial.suggest_float('learning_rate',1e-10,1), \n",
    "        objective='binary:logistic'\n",
    "    )\n",
    "    # fit model\n",
    "    bst.fit(trainX, trainY)\n",
    "    # make predictions\n",
    "    preds = bst.predict(testX) \n",
    "    return (\n",
    "        f1_score(testY.values.reshape(-1), preds, average=\"macro\"),\n",
    "        accuracy_score(testY.values.reshape(-1), preds),\n",
    "        precision_score(testY.values.reshape(-1), preds, average=\"macro\"),\n",
    "        recall_score(testY.values.reshape(-1), preds, average=\"macro\"),\n",
    "    )"
   ]
  },
  {
   "cell_type": "code",
   "execution_count": 24,
   "metadata": {},
   "outputs": [
    {
     "name": "stderr",
     "output_type": "stream",
     "text": [
      "[I 2023-06-10 16:39:12,141] A new study created in memory with name: no-name-f2bb828d-900e-4f2b-b2d5-d43382ea4fb5\n",
      "[I 2023-06-10 16:39:12,992] Trial 0 finished with values: [0.518311797538038, 0.8055555555555556, 0.5476190476190477, 0.5219228134277233] and parameters: {'n_estimators': 8, 'max_depth': 9, 'learning_rate': 0.9297218639557637}. \n",
      "[I 2023-06-10 16:39:14,782] Trial 1 finished with values: [0.5148247978436657, 0.8, 0.5375403040073699, 0.5186115551495776] and parameters: {'n_estimators': 5, 'max_depth': 8, 'learning_rate': 0.8153208544003989}. \n",
      "[I 2023-06-10 16:39:16,701] Trial 2 finished with values: [0.48499743232338055, 0.7833333333333333, 0.4901032702237521, 0.49474765928294134] and parameters: {'n_estimators': 10, 'max_depth': 3, 'learning_rate': 0.7159367854656851}. \n",
      "[I 2023-06-10 16:39:18,993] Trial 3 finished with values: [0.5148247978436657, 0.8, 0.5375403040073699, 0.5186115551495776] and parameters: {'n_estimators': 9, 'max_depth': 8, 'learning_rate': 0.825916143064335}. \n",
      "[I 2023-06-10 16:39:19,414] Trial 4 finished with values: [0.47115384615384615, 0.7555555555555555, 0.4687806472703498, 0.47819136789221284] and parameters: {'n_estimators': 3, 'max_depth': 10, 'learning_rate': 0.8131561189643719}. \n",
      "/home/dmitry/.cache/pypoetry/virtualenvs/homework-1-z19GceYm-py3.10/lib/python3.10/site-packages/sklearn/metrics/_classification.py:1344: UndefinedMetricWarning: Precision is ill-defined and being set to 0.0 in labels with no predicted samples. Use `zero_division` parameter to control this behavior.\n",
      "  _warn_prf(average, modifier, msg_start, len(result))\n",
      "[I 2023-06-10 16:39:21,069] Trial 5 finished with values: [0.4561933534743202, 0.8388888888888889, 0.41944444444444445, 0.5] and parameters: {'n_estimators': 7, 'max_depth': 3, 'learning_rate': 0.17398822626194113}. \n",
      "[I 2023-06-10 16:39:23,297] Trial 6 finished with values: [0.47041516835567176, 0.8, 0.4736842105263158, 0.4907513130851792] and parameters: {'n_estimators': 7, 'max_depth': 10, 'learning_rate': 0.8435433289495953}. \n",
      "[I 2023-06-10 16:39:23,678] Trial 7 finished with values: [0.518311797538038, 0.8055555555555556, 0.5476190476190477, 0.5219228134277233] and parameters: {'n_estimators': 9, 'max_depth': 4, 'learning_rate': 0.9694506690693264}. \n",
      "[I 2023-06-10 16:39:25,565] Trial 8 finished with values: [0.5933394695004602, 0.85, 0.7427325581395349, 0.5762731217172871] and parameters: {'n_estimators': 6, 'max_depth': 8, 'learning_rate': 0.12401449650161317}. \n",
      "[I 2023-06-10 16:39:27,720] Trial 9 finished with values: [0.5061728395061729, 0.8222222222222222, 0.564822460776218, 0.5179264672299612] and parameters: {'n_estimators': 8, 'max_depth': 8, 'learning_rate': 0.4799619536841669}. \n"
     ]
    }
   ],
   "source": [
    "study = optuna.create_study(directions=[\"maximize\", \"maximize\",\"maximize\",\"maximize\"])\n",
    "study.optimize(objective, n_trials=10, callbacks=[\n",
    "    DVCLiveCallback(metric_name=[\n",
    "                    \"f1_score\",\n",
    "                    \"accuracy_score\",\n",
    "                    \"precision_score\",\n",
    "                    \"recall_score\"\n",
    "                ]\n",
    ")])"
   ]
  },
  {
   "cell_type": "code",
   "execution_count": null,
   "metadata": {},
   "outputs": [],
   "source": []
  }
 ],
 "metadata": {
  "kernelspec": {
   "display_name": ".venv",
   "language": "python",
   "name": "python3"
  },
  "language_info": {
   "codemirror_mode": {
    "name": "ipython",
    "version": 3
   },
   "file_extension": ".py",
   "mimetype": "text/x-python",
   "name": "python",
   "nbconvert_exporter": "python",
   "pygments_lexer": "ipython3",
   "version": "3.10.6"
  },
  "orig_nbformat": 4
 },
 "nbformat": 4,
 "nbformat_minor": 2
}
